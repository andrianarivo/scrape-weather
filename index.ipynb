{
 "cells": [
  {
   "cell_type": "markdown",
   "id": "04f377a9-b80d-46a0-8ad7-e7ddbc90a0de",
   "metadata": {},
   "source": [
    "# Install Selenium\n",
    "\n",
    "Make sure Python 3 is installed and run (or use anaconda):\n",
    "```bash\n",
    "pip3 install selenium\n",
    "```\n",
    "### Install a browser driver. \n",
    "\n",
    "For Chrome, run:\n",
    "```bash\n",
    "brew install --cask chromedriver\n",
    "```\n",
    "For Firefox, run:\n",
    "```bash\n",
    "brew install geckodriver\n",
    "```"
   ]
  },
  {
   "cell_type": "code",
   "execution_count": 22,
   "id": "be03a922-4dd8-4f2f-b344-58edaf07a44a",
   "metadata": {},
   "outputs": [],
   "source": [
    "from selenium import webdriver\n",
    "from selenium.webdriver.common.by import By\n",
    "from selenium.common.exceptions import NoSuchElementException, StaleElementReferenceException\n",
    "from selenium.webdriver.common.keys import Keys\n",
    "from selenium.webdriver.support.ui import WebDriverWait, Select\n",
    "from selenium.webdriver.support import expected_conditions as EC"
   ]
  },
  {
   "cell_type": "markdown",
   "id": "80c63f76-98a6-4869-807b-2d82208a647e",
   "metadata": {},
   "source": [
    "### Script\n",
    "\n",
    "We can't separate the scripts into smaller ones. From webdriver instantiation to driver quit it has to be on the same code block.\n",
    "\n",
    "1. Go to https://www.windguru.cz/archive.php\n",
    "2. Type `Madagascar - Anakao` into the search bar, then ENTER\n",
    "3. Prompted for login\n",
    "4. Use `my-name:qwerty` then submit\n",
    "5. Select `1 hour`\n",
    "6. Select `Wind speed`, `Temperature`, `Rain (mm/1h)`\n",
    "7. Click on `Go`\n",
    "8. Search for the forecast table which will have the data"
   ]
  },
  {
   "cell_type": "code",
   "execution_count": 44,
   "id": "ef087d66-aa4b-4704-9798-7ccb11e52c81",
   "metadata": {},
   "outputs": [
    {
     "name": "stdout",
     "output_type": "stream",
     "text": [
      "<selenium.webdriver.remote.webelement.WebElement (session=\"0e7342c94166ef64ebb99f52a2a6f8c8\", element=\"f.51D2E40E15D6AEE2DBFBF6AA3A5EC5E6.d.962D3F0145BA50B43393564F298E13C7.e.105\")>\n",
      "<selenium.webdriver.remote.webelement.WebElement (session=\"0e7342c94166ef64ebb99f52a2a6f8c8\", element=\"f.51D2E40E15D6AEE2DBFBF6AA3A5EC5E6.d.962D3F0145BA50B43393564F298E13C7.e.106\")>\n",
      "<selenium.webdriver.remote.webelement.WebElement (session=\"0e7342c94166ef64ebb99f52a2a6f8c8\", element=\"f.51D2E40E15D6AEE2DBFBF6AA3A5EC5E6.d.962D3F0145BA50B43393564F298E13C7.e.107\")>\n",
      "<selenium.webdriver.remote.webelement.WebElement (session=\"0e7342c94166ef64ebb99f52a2a6f8c8\", element=\"f.51D2E40E15D6AEE2DBFBF6AA3A5EC5E6.d.962D3F0145BA50B43393564F298E13C7.e.108\")>\n",
      "<selenium.webdriver.remote.webelement.WebElement (session=\"0e7342c94166ef64ebb99f52a2a6f8c8\", element=\"f.51D2E40E15D6AEE2DBFBF6AA3A5EC5E6.d.962D3F0145BA50B43393564F298E13C7.e.109\")>\n",
      "<selenium.webdriver.remote.webelement.WebElement (session=\"0e7342c94166ef64ebb99f52a2a6f8c8\", element=\"f.51D2E40E15D6AEE2DBFBF6AA3A5EC5E6.d.962D3F0145BA50B43393564F298E13C7.e.110\")>\n",
      "<selenium.webdriver.remote.webelement.WebElement (session=\"0e7342c94166ef64ebb99f52a2a6f8c8\", element=\"f.51D2E40E15D6AEE2DBFBF6AA3A5EC5E6.d.962D3F0145BA50B43393564F298E13C7.e.111\")>\n",
      "<selenium.webdriver.remote.webelement.WebElement (session=\"0e7342c94166ef64ebb99f52a2a6f8c8\", element=\"f.51D2E40E15D6AEE2DBFBF6AA3A5EC5E6.d.962D3F0145BA50B43393564F298E13C7.e.112\")>\n",
      "<selenium.webdriver.remote.webelement.WebElement (session=\"0e7342c94166ef64ebb99f52a2a6f8c8\", element=\"f.51D2E40E15D6AEE2DBFBF6AA3A5EC5E6.d.962D3F0145BA50B43393564F298E13C7.e.113\")>\n",
      "<selenium.webdriver.remote.webelement.WebElement (session=\"0e7342c94166ef64ebb99f52a2a6f8c8\", element=\"f.51D2E40E15D6AEE2DBFBF6AA3A5EC5E6.d.962D3F0145BA50B43393564F298E13C7.e.114\")>\n"
     ]
    }
   ],
   "source": [
    "driver = webdriver.Chrome()\n",
    "driver.get(\"https://www.windguru.cz/archive.php\")\n",
    "\n",
    "try:\n",
    "    wait = WebDriverWait(driver, 10)\n",
    "\n",
    "    # Select Spot\n",
    "    input_box = wait.until(EC.presence_of_element_located((By.ID, \"searcharch\")))\n",
    "    input_box.send_keys(\"Madagascar - Anakao\")\n",
    "    input_box.send_keys(Keys.ENTER)\n",
    "\n",
    "    # Login\n",
    "    username_input = wait.until(EC.presence_of_element_located((By.NAME, \"username\")))\n",
    "    username_input.send_keys(\"my-name\")\n",
    "    \n",
    "    password_input = wait.until(EC.presence_of_element_located((By.NAME, \"password\")))\n",
    "    password_input.send_keys(\"qwerty\")\n",
    "\n",
    "    submit_btn = wait.until(EC.presence_of_element_located((By.CSS_SELECTOR, \"button[type='submit']\")))\n",
    "    submit_btn.click()\n",
    "\n",
    "    wait.until(EC.invisibility_of_element_located((By.ID, \"jBoxID37\")))\n",
    "    wait.until(EC.presence_of_element_located((By.CSS_SELECTOR, \"table.forecast.daily-archive\")))\n",
    "    \n",
    "    # Configurations\n",
    "    step_select_element = wait.until(EC.presence_of_element_located((By.NAME, \"step\")))\n",
    "    step_select = Select(step_select_element)\n",
    "    step_select.select_by_visible_text(\"1 hour\")\n",
    "\n",
    "    WebDriverWait(driver, 10, 1, (StaleElementReferenceException)).until(lambda driver: driver.find_element(By.XPATH, \"//label[input[@value='APCP1']]\").click() or True)\n",
    "\n",
    "    label = wait.until(EC.presence_of_element_located((By.XPATH, \"//label[input[@value='WINDDIR']]\")))\n",
    "    label.click()\n",
    "\n",
    "    go_btn = wait.until(EC.element_to_be_clickable((By.XPATH, \"//button[@type='button' and contains(text(), 'Go')]\")))\n",
    "    go_btn.click()\n",
    "\n",
    "    # Get the data\n",
    "    forecast_table = wait.until(EC.presence_of_element_located((By.CSS_SELECTOR, \"table.forecast.daily-archive\")))\n",
    "    rows = forecast_table.find_elements(By.TAG_NAME, \"tr\")\n",
    "    for row in rows[:10]:  \n",
    "        print(row.text)\n",
    "        \n",
    "finally:\n",
    "    driver.quit()"
   ]
  },
  {
   "cell_type": "code",
   "execution_count": null,
   "id": "8b155569-ebb6-4f7a-be9f-042d398dcfb3",
   "metadata": {},
   "outputs": [],
   "source": []
  }
 ],
 "metadata": {
  "kernelspec": {
   "display_name": "Python [conda env:base] *",
   "language": "python",
   "name": "conda-base-py"
  },
  "language_info": {
   "codemirror_mode": {
    "name": "ipython",
    "version": 3
   },
   "file_extension": ".py",
   "mimetype": "text/x-python",
   "name": "python",
   "nbconvert_exporter": "python",
   "pygments_lexer": "ipython3",
   "version": "3.12.7"
  }
 },
 "nbformat": 4,
 "nbformat_minor": 5
}
